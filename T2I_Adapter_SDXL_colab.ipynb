{
  "cells": [
    {
      "cell_type": "markdown",
      "metadata": {
        "id": "view-in-github"
      },
      "source": [
        "[![Open In Colab](https://colab.research.google.com/assets/colab-badge.svg)](https://colab.research.google.com/github/camenduru/T2I-Adapter-SDXL-colab/blob/main/T2I_Adapter_SDXL_colab.ipynb)"
      ]
    },
    {
      "cell_type": "code",
      "execution_count": null,
      "metadata": {
        "id": "VjYy0F2gZIPR"
      },
      "outputs": [],
      "source": [
        "%cd /content\n",
        "!git clone -b dev https://github.com/camenduru/T2I-Adapter-SDXL-hf\n",
        "%cd /content/T2I-Adapter-SDXL-hf\n",
        "!pip install -r requirements.txt\n",
        "!wget https://github.com/camenduru/T2I-Adapter-SDXL-colab/assets/54370274/d3ebb2ac-d3e7-4782-bcac-c445fd5e257b -O /content/T2I-Adapter-SDXL-hf/assets/depth-midas-image.png\n",
        "!wget https://github.com/camenduru/T2I-Adapter-SDXL-colab/assets/54370274/5a914ade-b047-4e63-a8cb-1603ba557923 -O /content/T2I-Adapter-SDXL-hf/assets/openpose-image.png\n",
        "!wget https://github.com/camenduru/T2I-Adapter-SDXL-colab/assets/54370274/762fd1c5-542d-433b-a13b-e16f895485c7 -O /content/T2I-Adapter-SDXL-hf/assets/org_canny.jpg\n",
        "!wget https://github.com/camenduru/T2I-Adapter-SDXL-colab/assets/54370274/a87dbcb5-eada-49d4-bc49-8603b9212172 -O /content/T2I-Adapter-SDXL-hf/assets/org_lin.jpg\n",
        "!wget https://github.com/camenduru/T2I-Adapter-SDXL-colab/assets/54370274/43d2f04c-2a5e-49c9-a7fe-f4a2e2ea5852 -O /content/T2I-Adapter-SDXL-hf/assets/org_mid.jpg\n",
        "!wget https://github.com/camenduru/T2I-Adapter-SDXL-colab/assets/54370274/e4f48263-7ac9-4060-a21e-e20afcd78335 -O /content/T2I-Adapter-SDXL-hf/assets/org_sketch.png\n",
        "!wget https://github.com/camenduru/T2I-Adapter-SDXL-colab/assets/54370274/c3ec2f31-f2af-41a7-b8f0-479559905419 -O /content/T2I-Adapter-SDXL-hf/assets/org_zoe.jpg\n",
        "!wget https://github.com/camenduru/T2I-Adapter-SDXL-colab/assets/54370274/5ac6118e-9ccb-496d-bf7b-d30c9a811d7a -O /content/T2I-Adapter-SDXL-hf/assets/people.jpg\n",
        "!python app.py"
      ]
    }
  ],
  "metadata": {
    "accelerator": "GPU",
    "colab": {
      "gpuType": "T4",
      "provenance": []
    },
    "kernelspec": {
      "display_name": "Python 3",
      "name": "python3"
    },
    "language_info": {
      "name": "python"
    }
  },
  "nbformat": 4,
  "nbformat_minor": 0
}
